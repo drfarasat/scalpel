{
 "cells": [
  {
   "cell_type": "code",
   "execution_count": 1,
   "metadata": {},
   "outputs": [],
   "source": [
    "img_dir = '/home/fmr/Downloads/scalpel/rescale/images'\n",
    "label_dir = '/home/fmr/Downloads/scalpel/rescale/jsons'\n"
   ]
  }
 ],
 "metadata": {
  "kernelspec": {
   "display_name": "ocvbuild_pyt",
   "language": "python",
   "name": "python3"
  },
  "language_info": {
   "codemirror_mode": {
    "name": "ipython",
    "version": 3
   },
   "file_extension": ".py",
   "mimetype": "text/x-python",
   "name": "python",
   "nbconvert_exporter": "python",
   "pygments_lexer": "ipython3",
   "version": "3.8.13"
  },
  "orig_nbformat": 4
 },
 "nbformat": 4,
 "nbformat_minor": 2
}
